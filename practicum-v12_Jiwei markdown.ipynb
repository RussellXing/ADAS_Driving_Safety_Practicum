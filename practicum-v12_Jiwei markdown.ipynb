{
 "cells": [
  {
   "cell_type": "markdown",
   "metadata": {},
   "source": [
    "# Import packages"
   ]
  },
  {
   "cell_type": "markdown",
   "metadata": {},
   "source": [
    "Due to the setting of different environment, the installing method of packages is different.\n",
    "\n",
    "\n",
    "If the system is windows, open the command prompt and type:\n",
    "\n",
    "\n",
    "\"pip install category_encoders\n",
    "\n",
    "\n",
    "pip install nltk\"\n",
    "(If the system is equipped with pip).\n",
    "\n",
    "\n",
    "Or, open the anaconda prompt and type:\n",
    "\n",
    "\n",
    "\"conda install -c conda-forge category_encoders \n",
    "\n",
    "\n",
    "conda install -c anaconda nltk \"\n",
    "(If the system is equipped with anaconda)."
   ]
  },
  {
   "cell_type": "code",
   "execution_count": 29,
   "metadata": {},
   "outputs": [
    {
     "name": "stdout",
     "output_type": "stream",
     "text": [
      "Requirement already satisfied: category_encoders in /Users/zengweihao/anaconda3/lib/python3.6/site-packages (1.3.0)\r\n",
      "Requirement already satisfied: numpy>=1.11.1 in /Users/zengweihao/anaconda3/lib/python3.6/site-packages (from category_encoders) (1.15.4)\r\n",
      "Requirement already satisfied: statsmodels>=0.6.1 in /Users/zengweihao/anaconda3/lib/python3.6/site-packages (from category_encoders) (0.8.0)\r\n",
      "Requirement already satisfied: scipy>=0.17.0 in /Users/zengweihao/anaconda3/lib/python3.6/site-packages (from category_encoders) (1.1.0)\r\n",
      "Requirement already satisfied: scikit-learn>=0.17.1 in /Users/zengweihao/anaconda3/lib/python3.6/site-packages (from category_encoders) (0.20.0)\r\n",
      "Requirement already satisfied: pandas>=0.20.1 in /Users/zengweihao/anaconda3/lib/python3.6/site-packages (from category_encoders) (0.23.4)\r\n",
      "Requirement already satisfied: patsy>=0.4.1 in /Users/zengweihao/anaconda3/lib/python3.6/site-packages (from category_encoders) (0.4.1)\r\n",
      "Requirement already satisfied: python-dateutil>=2.5.0 in /Users/zengweihao/anaconda3/lib/python3.6/site-packages (from pandas>=0.20.1->category_encoders) (2.6.1)\r\n",
      "Requirement already satisfied: pytz>=2011k in /Users/zengweihao/anaconda3/lib/python3.6/site-packages (from pandas>=0.20.1->category_encoders) (2017.2)\r\n",
      "Requirement already satisfied: six in /Users/zengweihao/anaconda3/lib/python3.6/site-packages (from patsy>=0.4.1->category_encoders) (1.10.0)\r\n"
     ]
    }
   ],
   "source": [
    "# For the system of Linux\n",
    "! pip install --user category_encoders\n",
    "! pip install --user nltk"
   ]
  },
  {
   "cell_type": "code",
   "execution_count": null,
   "metadata": {},
   "outputs": [],
   "source": [
    "# For the system of Mac\n",
    "! pip install category_encoders\n",
    "! pip install nltk"
   ]
  },
  {
   "cell_type": "code",
   "execution_count": 1,
   "metadata": {
    "scrolled": true
   },
   "outputs": [
    {
     "name": "stderr",
     "output_type": "stream",
     "text": [
      "/Users/zengweihao/anaconda3/lib/python3.6/site-packages/requests/__init__.py:80: RequestsDependencyWarning: urllib3 (1.22) or chardet (2.3.0) doesn't match a supported version!\n",
      "  RequestsDependencyWarning)\n"
     ]
    }
   ],
   "source": [
    "import pandas as pd\n",
    "import numpy as np\n",
    "from sklearn.model_selection import StratifiedKFold\n",
    "from sklearn.model_selection import RandomizedSearchCV\n",
    "from sklearn.ensemble import GradientBoostingClassifier\n",
    "from sklearn.preprocessing import StandardScaler,OneHotEncoder\n",
    "from sklearn.feature_extraction.text import TfidfVectorizer\n",
    "from sklearn.decomposition import NMF\n",
    "from sklearn import preprocessing, metrics\n",
    "from sklearn.pipeline import Pipeline, FeatureUnion\n",
    "from sklearn.base import TransformerMixin, BaseEstimator\n",
    "import matplotlib\n",
    "import matplotlib.pyplot as plt\n",
    "import nltk.stem\n",
    "from datetime import datetime as dt\n",
    "#np.set_printoptions(threshold=np.nan)"
   ]
  },
  {
   "cell_type": "markdown",
   "metadata": {},
   "source": [
    "Load the dataset."
   ]
  },
  {
   "cell_type": "code",
   "execution_count": 2,
   "metadata": {
    "collapsed": true
   },
   "outputs": [],
   "source": [
    "train = pd.read_csv('ADAS_File_5_updated.csv',encoding='latin-1',error_bad_lines=False)"
   ]
  },
  {
   "cell_type": "markdown",
   "metadata": {},
   "source": [
    "The address for the test dataset is:\n",
    "https://drive.google.com/file/d/1Bb6HTosGaFx_PxWkHdwiMndt0UGL8nqi/view?usp=sharing"
   ]
  },
  {
   "cell_type": "code",
   "execution_count": 3,
   "metadata": {},
   "outputs": [
    {
     "name": "stderr",
     "output_type": "stream",
     "text": [
      "/Users/zengweihao/anaconda3/lib/python3.6/site-packages/IPython/core/interactiveshell.py:2698: DtypeWarning:\n",
      "\n",
      "Columns (28,36,44) have mixed types. Specify dtype option on import or set low_memory=False.\n",
      "\n"
     ]
    }
   ],
   "source": [
    "test=pd.read_csv('data_unlabelled_xing.csv',encoding='latin-1',error_bad_lines=False)\n",
    "test=test[test['batch']==2]\n",
    "test = test.loc[(test['FAILDATE'] >= 20120101) & (test['FAILDATE'] <= 20190000)]"
   ]
  },
  {
   "cell_type": "markdown",
   "metadata": {},
   "source": [
    "Check the size of data"
   ]
  },
  {
   "cell_type": "code",
   "execution_count": 4,
   "metadata": {},
   "outputs": [
    {
     "name": "stderr",
     "output_type": "stream",
     "text": [
      "/Users/zengweihao/anaconda3/lib/python3.6/site-packages/ipykernel_launcher.py:3: FutureWarning:\n",
      "\n",
      "Sorting because non-concatenation axis is not aligned. A future version\n",
      "of pandas will change to not sort by default.\n",
      "\n",
      "To accept the future behavior, pass 'sort=False'.\n",
      "\n",
      "To retain the current behavior and silence the warning, pass 'sort=True'.\n",
      "\n",
      "\n"
     ]
    },
    {
     "name": "stdout",
     "output_type": "stream",
     "text": [
      "data size is : (157602, 70)\n"
     ]
    }
   ],
   "source": [
    "ntrain = train.shape[0]\n",
    "ntest = test.shape[0]\n",
    "data = pd.concat((train, test)).reset_index(drop=True)\n",
    "print(\"data size is : {}\".format(data.shape))"
   ]
  },
  {
   "cell_type": "code",
   "execution_count": 5,
   "metadata": {},
   "outputs": [
    {
     "data": {
      "text/plain": [
       "(2496, 59)"
      ]
     },
     "execution_count": 5,
     "metadata": {},
     "output_type": "execute_result"
    }
   ],
   "source": [
    "train.shape"
   ]
  },
  {
   "cell_type": "code",
   "execution_count": 6,
   "metadata": {},
   "outputs": [
    {
     "data": {
      "text/plain": [
       "(155106, 60)"
      ]
     },
     "execution_count": 6,
     "metadata": {},
     "output_type": "execute_result"
    }
   ],
   "source": [
    "test.shape"
   ]
  },
  {
   "cell_type": "code",
   "execution_count": 7,
   "metadata": {},
   "outputs": [
    {
     "data": {
      "text/plain": [
       "(157602, 70)"
      ]
     },
     "execution_count": 7,
     "metadata": {},
     "output_type": "execute_result"
    }
   ],
   "source": [
    "data.shape"
   ]
  },
  {
   "cell_type": "markdown",
   "metadata": {},
   "source": [
    "Extract different target variables from the dataset to fit different models."
   ]
  },
  {
   "cell_type": "code",
   "execution_count": 8,
   "metadata": {
    "collapsed": true
   },
   "outputs": [],
   "source": [
    "adas1=train['ADAS1']\n",
    "aeb1=train['AutomaticEmergencyBraking1']\n",
    "acc1=train['AdaptiveCruiseControl1']"
   ]
  },
  {
   "cell_type": "markdown",
   "metadata": {},
   "source": [
    "We would like build some features based on the existing variables."
   ]
  },
  {
   "cell_type": "code",
   "execution_count": 9,
   "metadata": {
    "collapsed": true
   },
   "outputs": [],
   "source": [
    "#The Age of car\n",
    "data['FAILDATE'] = pd.to_datetime(data['FAILDATE'], format = \"%Y%m%d\")\n",
    "data['AGE'] = data['FAILDATE'].apply(lambda x: int(str(x)[:4])) - data['YEARTXT']\n",
    "data['AGE'] = data['AGE'].apply(lambda x: 0 if x < 0 else x)\n",
    "\n",
    "#The full name of model\n",
    "data['MODEL_YEAR'] = data['MFR_NAME'] + data['MAKETXT'] + data['YEARTXT'].apply(lambda x : str(x))\n",
    "\n",
    "data['MFR_NAME'] = data['MFR_NAME'] + data['MAKETXT']\n",
    "\n",
    "## Same model name can be used in different makes\n",
    "data['MODELTXT']=data[\"MAKETXT\"].map(str) +' '+ data[\"MODELTXT\"]\n",
    "\n",
    "#To distinguish different cities with same name\n",
    "data['CITY'] = data['CITY'] + data['STATE']\n",
    "\n",
    "#The month(the influence of season etc.) and the day(work day or weekend) of faildate.\n",
    "data['FAILDATE'] = pd.to_datetime(data['FAILDATE'], format = \"%Y%m%d\")\n",
    "data['FAILMONTH'] = data['FAILDATE'].apply(lambda x : x.month)\n",
    "data['FAILWEEKDAY'] = data['FAILDATE'].dt.dayofweek"
   ]
  },
  {
   "cell_type": "markdown",
   "metadata": {},
   "source": [
    "Not all the variables are needed in the model, so they will be dropped."
   ]
  },
  {
   "cell_type": "code",
   "execution_count": 10,
   "metadata": {
    "collapsed": true
   },
   "outputs": [],
   "source": [
    "cols_use = ['MFR_NAME', 'MAKETXT','MODELTXT','MODEL_YEAR', 'YEARTXT', 'CRASH', 'FIRE', 'INJURED', 'DEATHS', 'COMPDESC', 'CITY', 'STATE', 'MILES',\n",
    "            'OCCURENCES', 'CDESCR', 'ANTI_BRAKES_YN', 'CRUISE_CONT_YN', 'VEH_SPEED', 'AGE', 'FAILMONTH', 'FAILWEEKDAY']\n",
    "\n",
    "data = data[cols_use]"
   ]
  },
  {
   "cell_type": "markdown",
   "metadata": {},
   "source": [
    "To lower the font in the complaint and description of components."
   ]
  },
  {
   "cell_type": "code",
   "execution_count": 11,
   "metadata": {
    "collapsed": true
   },
   "outputs": [],
   "source": [
    "data[\"CDESCR\"] = data[\"CDESCR\"].apply(lambda x : str(x).lower())\n",
    "data[\"COMPDESC\"] = data[\"COMPDESC\"].apply(lambda x : x.lower())"
   ]
  },
  {
   "cell_type": "markdown",
   "metadata": {},
   "source": [
    "# Combine the brand and the car type to make sure the type is unique\n",
    "- We find that since different car brands may have the same name of their car types, we cannot uniquely identify the model of the car without combineing the car's brand and the car's model. Therefore, we combine the brand (`MAKETXT`) and the car type (`MODELTXT`) to make sure the car's model is unique"
   ]
  },
  {
   "cell_type": "markdown",
   "metadata": {},
   "source": [
    "# Brief description about the numeric variable\n",
    "- After looking carefully of the numeric variable, we think that in the true dataset, there may be outliers at `INJURED` (number of people injured in the accident), `DEATHS` (number of people dead in the accident), `OCCURENCES` (number of the mulfunction condition occured), `VEH_SPEED` (the speed of the car when the accident happened). "
   ]
  },
  {
   "cell_type": "code",
   "execution_count": 12,
   "metadata": {},
   "outputs": [
    {
     "data": {
      "text/html": [
       "<div>\n",
       "<style scoped>\n",
       "    .dataframe tbody tr th:only-of-type {\n",
       "        vertical-align: middle;\n",
       "    }\n",
       "\n",
       "    .dataframe tbody tr th {\n",
       "        vertical-align: top;\n",
       "    }\n",
       "\n",
       "    .dataframe thead th {\n",
       "        text-align: right;\n",
       "    }\n",
       "</style>\n",
       "<table border=\"1\" class=\"dataframe\">\n",
       "  <thead>\n",
       "    <tr style=\"text-align: right;\">\n",
       "      <th></th>\n",
       "      <th>YEARTXT</th>\n",
       "      <th>INJURED</th>\n",
       "      <th>DEATHS</th>\n",
       "      <th>MILES</th>\n",
       "      <th>OCCURENCES</th>\n",
       "      <th>VEH_SPEED</th>\n",
       "      <th>AGE</th>\n",
       "      <th>FAILMONTH</th>\n",
       "      <th>FAILWEEKDAY</th>\n",
       "    </tr>\n",
       "  </thead>\n",
       "  <tbody>\n",
       "    <tr>\n",
       "      <th>count</th>\n",
       "      <td>157602.000000</td>\n",
       "      <td>56182.000000</td>\n",
       "      <td>53547.000000</td>\n",
       "      <td>1.291350e+05</td>\n",
       "      <td>43247.000000</td>\n",
       "      <td>104146.000000</td>\n",
       "      <td>157602.000000</td>\n",
       "      <td>157602.000000</td>\n",
       "      <td>157602.000000</td>\n",
       "    </tr>\n",
       "    <tr>\n",
       "      <th>mean</th>\n",
       "      <td>2013.748493</td>\n",
       "      <td>0.183404</td>\n",
       "      <td>0.008927</td>\n",
       "      <td>3.483297e+04</td>\n",
       "      <td>1.190348</td>\n",
       "      <td>30.761642</td>\n",
       "      <td>1.958091</td>\n",
       "      <td>6.379170</td>\n",
       "      <td>2.667942</td>\n",
       "    </tr>\n",
       "    <tr>\n",
       "      <th>std</th>\n",
       "      <td>1.559546</td>\n",
       "      <td>0.735022</td>\n",
       "      <td>0.494464</td>\n",
       "      <td>8.532986e+04</td>\n",
       "      <td>1.220660</td>\n",
       "      <td>29.439233</td>\n",
       "      <td>1.715441</td>\n",
       "      <td>3.321202</td>\n",
       "      <td>1.918884</td>\n",
       "    </tr>\n",
       "    <tr>\n",
       "      <th>min</th>\n",
       "      <td>2012.000000</td>\n",
       "      <td>0.000000</td>\n",
       "      <td>0.000000</td>\n",
       "      <td>0.000000e+00</td>\n",
       "      <td>0.000000</td>\n",
       "      <td>0.000000</td>\n",
       "      <td>0.000000</td>\n",
       "      <td>1.000000</td>\n",
       "      <td>0.000000</td>\n",
       "    </tr>\n",
       "    <tr>\n",
       "      <th>25%</th>\n",
       "      <td>2012.000000</td>\n",
       "      <td>0.000000</td>\n",
       "      <td>0.000000</td>\n",
       "      <td>5.000000e+03</td>\n",
       "      <td>1.000000</td>\n",
       "      <td>5.000000</td>\n",
       "      <td>0.000000</td>\n",
       "      <td>4.000000</td>\n",
       "      <td>1.000000</td>\n",
       "    </tr>\n",
       "    <tr>\n",
       "      <th>50%</th>\n",
       "      <td>2013.000000</td>\n",
       "      <td>0.000000</td>\n",
       "      <td>0.000000</td>\n",
       "      <td>2.300000e+04</td>\n",
       "      <td>1.000000</td>\n",
       "      <td>30.000000</td>\n",
       "      <td>2.000000</td>\n",
       "      <td>6.000000</td>\n",
       "      <td>3.000000</td>\n",
       "    </tr>\n",
       "    <tr>\n",
       "      <th>75%</th>\n",
       "      <td>2015.000000</td>\n",
       "      <td>0.000000</td>\n",
       "      <td>0.000000</td>\n",
       "      <td>5.162800e+04</td>\n",
       "      <td>1.000000</td>\n",
       "      <td>55.000000</td>\n",
       "      <td>3.000000</td>\n",
       "      <td>9.000000</td>\n",
       "      <td>4.000000</td>\n",
       "    </tr>\n",
       "    <tr>\n",
       "      <th>max</th>\n",
       "      <td>2018.000000</td>\n",
       "      <td>99.000000</td>\n",
       "      <td>99.000000</td>\n",
       "      <td>9.000443e+06</td>\n",
       "      <td>100.000000</td>\n",
       "      <td>999.000000</td>\n",
       "      <td>6.000000</td>\n",
       "      <td>12.000000</td>\n",
       "      <td>6.000000</td>\n",
       "    </tr>\n",
       "  </tbody>\n",
       "</table>\n",
       "</div>"
      ],
      "text/plain": [
       "             YEARTXT       INJURED        DEATHS         MILES    OCCURENCES  \\\n",
       "count  157602.000000  56182.000000  53547.000000  1.291350e+05  43247.000000   \n",
       "mean     2013.748493      0.183404      0.008927  3.483297e+04      1.190348   \n",
       "std         1.559546      0.735022      0.494464  8.532986e+04      1.220660   \n",
       "min      2012.000000      0.000000      0.000000  0.000000e+00      0.000000   \n",
       "25%      2012.000000      0.000000      0.000000  5.000000e+03      1.000000   \n",
       "50%      2013.000000      0.000000      0.000000  2.300000e+04      1.000000   \n",
       "75%      2015.000000      0.000000      0.000000  5.162800e+04      1.000000   \n",
       "max      2018.000000     99.000000     99.000000  9.000443e+06    100.000000   \n",
       "\n",
       "           VEH_SPEED            AGE      FAILMONTH    FAILWEEKDAY  \n",
       "count  104146.000000  157602.000000  157602.000000  157602.000000  \n",
       "mean       30.761642       1.958091       6.379170       2.667942  \n",
       "std        29.439233       1.715441       3.321202       1.918884  \n",
       "min         0.000000       0.000000       1.000000       0.000000  \n",
       "25%         5.000000       0.000000       4.000000       1.000000  \n",
       "50%        30.000000       2.000000       6.000000       3.000000  \n",
       "75%        55.000000       3.000000       9.000000       4.000000  \n",
       "max       999.000000       6.000000      12.000000       6.000000  "
      ]
     },
     "execution_count": 12,
     "metadata": {},
     "output_type": "execute_result"
    }
   ],
   "source": [
    "data.describe()\n",
    "### outlier in INJURED, DEATHS, OCCURENCES(number of occurence), VEH_SPEED"
   ]
  },
  {
   "cell_type": "code",
   "execution_count": 13,
   "metadata": {},
   "outputs": [
    {
     "data": {
      "text/html": [
       "<div>\n",
       "<style scoped>\n",
       "    .dataframe tbody tr th:only-of-type {\n",
       "        vertical-align: middle;\n",
       "    }\n",
       "\n",
       "    .dataframe tbody tr th {\n",
       "        vertical-align: top;\n",
       "    }\n",
       "\n",
       "    .dataframe thead th {\n",
       "        text-align: right;\n",
       "    }\n",
       "</style>\n",
       "<table border=\"1\" class=\"dataframe\">\n",
       "  <thead>\n",
       "    <tr style=\"text-align: right;\">\n",
       "      <th></th>\n",
       "      <th>MFR_NAME</th>\n",
       "      <th>MAKETXT</th>\n",
       "      <th>MODELTXT</th>\n",
       "      <th>MODEL_YEAR</th>\n",
       "      <th>YEARTXT</th>\n",
       "      <th>CRASH</th>\n",
       "      <th>FIRE</th>\n",
       "      <th>INJURED</th>\n",
       "      <th>DEATHS</th>\n",
       "      <th>COMPDESC</th>\n",
       "      <th>...</th>\n",
       "      <th>STATE</th>\n",
       "      <th>MILES</th>\n",
       "      <th>OCCURENCES</th>\n",
       "      <th>CDESCR</th>\n",
       "      <th>ANTI_BRAKES_YN</th>\n",
       "      <th>CRUISE_CONT_YN</th>\n",
       "      <th>VEH_SPEED</th>\n",
       "      <th>AGE</th>\n",
       "      <th>FAILMONTH</th>\n",
       "      <th>FAILWEEKDAY</th>\n",
       "    </tr>\n",
       "  </thead>\n",
       "  <tbody>\n",
       "    <tr>\n",
       "      <th>0</th>\n",
       "      <td>Chrysler (FCA US LLC)CHRYSLER</td>\n",
       "      <td>CHRYSLER</td>\n",
       "      <td>CHRYSLER 200</td>\n",
       "      <td>Chrysler (FCA US LLC)CHRYSLER2015</td>\n",
       "      <td>2015</td>\n",
       "      <td>Y</td>\n",
       "      <td>N</td>\n",
       "      <td>1.0</td>\n",
       "      <td>0.0</td>\n",
       "      <td>seat belts</td>\n",
       "      <td>...</td>\n",
       "      <td>SC</td>\n",
       "      <td>78000.0</td>\n",
       "      <td>1.0</td>\n",
       "      <td>tl* the contact owned a 2015 chrysler 200. the...</td>\n",
       "      <td>N</td>\n",
       "      <td>N</td>\n",
       "      <td>60.0</td>\n",
       "      <td>2</td>\n",
       "      <td>9</td>\n",
       "      <td>1</td>\n",
       "    </tr>\n",
       "    <tr>\n",
       "      <th>1</th>\n",
       "      <td>Hyundai Motor AmericaHYUNDAI</td>\n",
       "      <td>HYUNDAI</td>\n",
       "      <td>HYUNDAI SANTA FE</td>\n",
       "      <td>Hyundai Motor AmericaHYUNDAI2015</td>\n",
       "      <td>2015</td>\n",
       "      <td>N</td>\n",
       "      <td>N</td>\n",
       "      <td>NaN</td>\n",
       "      <td>NaN</td>\n",
       "      <td>electrical system</td>\n",
       "      <td>...</td>\n",
       "      <td>IN</td>\n",
       "      <td>21500.0</td>\n",
       "      <td>1.0</td>\n",
       "      <td>similar to incident 10885095; blind spot detec...</td>\n",
       "      <td>N</td>\n",
       "      <td>N</td>\n",
       "      <td>70.0</td>\n",
       "      <td>1</td>\n",
       "      <td>11</td>\n",
       "      <td>3</td>\n",
       "    </tr>\n",
       "    <tr>\n",
       "      <th>2</th>\n",
       "      <td>Toyota Motor CorporationTOYOTA</td>\n",
       "      <td>TOYOTA</td>\n",
       "      <td>TOYOTA LAND CRUISER</td>\n",
       "      <td>Toyota Motor CorporationTOYOTA2016</td>\n",
       "      <td>2016</td>\n",
       "      <td>N</td>\n",
       "      <td>N</td>\n",
       "      <td>NaN</td>\n",
       "      <td>NaN</td>\n",
       "      <td>electrical system</td>\n",
       "      <td>...</td>\n",
       "      <td>CA</td>\n",
       "      <td>6000.0</td>\n",
       "      <td>NaN</td>\n",
       "      <td>purchased vehicle in early 2016.  may/june 201...</td>\n",
       "      <td>N</td>\n",
       "      <td>N</td>\n",
       "      <td>0.0</td>\n",
       "      <td>1</td>\n",
       "      <td>3</td>\n",
       "      <td>0</td>\n",
       "    </tr>\n",
       "    <tr>\n",
       "      <th>3</th>\n",
       "      <td>Tesla Motors, Inc.TESLA</td>\n",
       "      <td>TESLA</td>\n",
       "      <td>TESLA MODEL S</td>\n",
       "      <td>Tesla Motors, Inc.TESLA2016</td>\n",
       "      <td>2016</td>\n",
       "      <td>N</td>\n",
       "      <td>N</td>\n",
       "      <td>NaN</td>\n",
       "      <td>NaN</td>\n",
       "      <td>suspension</td>\n",
       "      <td>...</td>\n",
       "      <td>CA</td>\n",
       "      <td>7000.0</td>\n",
       "      <td>NaN</td>\n",
       "      <td>here is a tesla in the salvage yard.  https://...</td>\n",
       "      <td>N</td>\n",
       "      <td>N</td>\n",
       "      <td>30.0</td>\n",
       "      <td>0</td>\n",
       "      <td>11</td>\n",
       "      <td>1</td>\n",
       "    </tr>\n",
       "    <tr>\n",
       "      <th>4</th>\n",
       "      <td>Ford Motor CompanyFORD</td>\n",
       "      <td>FORD</td>\n",
       "      <td>FORD ESCAPE</td>\n",
       "      <td>Ford Motor CompanyFORD2014</td>\n",
       "      <td>2014</td>\n",
       "      <td>N</td>\n",
       "      <td>Y</td>\n",
       "      <td>NaN</td>\n",
       "      <td>NaN</td>\n",
       "      <td>unknown or other</td>\n",
       "      <td>...</td>\n",
       "      <td>PA</td>\n",
       "      <td>58205.0</td>\n",
       "      <td>NaN</td>\n",
       "      <td>driving down the road (4 lane highway) and my ...</td>\n",
       "      <td>N</td>\n",
       "      <td>N</td>\n",
       "      <td>70.0</td>\n",
       "      <td>3</td>\n",
       "      <td>1</td>\n",
       "      <td>0</td>\n",
       "    </tr>\n",
       "  </tbody>\n",
       "</table>\n",
       "<p>5 rows × 21 columns</p>\n",
       "</div>"
      ],
      "text/plain": [
       "                         MFR_NAME   MAKETXT             MODELTXT  \\\n",
       "0   Chrysler (FCA US LLC)CHRYSLER  CHRYSLER         CHRYSLER 200   \n",
       "1    Hyundai Motor AmericaHYUNDAI   HYUNDAI     HYUNDAI SANTA FE   \n",
       "2  Toyota Motor CorporationTOYOTA    TOYOTA  TOYOTA LAND CRUISER   \n",
       "3         Tesla Motors, Inc.TESLA     TESLA        TESLA MODEL S   \n",
       "4          Ford Motor CompanyFORD      FORD          FORD ESCAPE   \n",
       "\n",
       "                           MODEL_YEAR  YEARTXT CRASH FIRE  INJURED  DEATHS  \\\n",
       "0   Chrysler (FCA US LLC)CHRYSLER2015     2015     Y    N      1.0     0.0   \n",
       "1    Hyundai Motor AmericaHYUNDAI2015     2015     N    N      NaN     NaN   \n",
       "2  Toyota Motor CorporationTOYOTA2016     2016     N    N      NaN     NaN   \n",
       "3         Tesla Motors, Inc.TESLA2016     2016     N    N      NaN     NaN   \n",
       "4          Ford Motor CompanyFORD2014     2014     N    Y      NaN     NaN   \n",
       "\n",
       "            COMPDESC     ...      STATE    MILES  OCCURENCES  \\\n",
       "0         seat belts     ...         SC  78000.0         1.0   \n",
       "1  electrical system     ...         IN  21500.0         1.0   \n",
       "2  electrical system     ...         CA   6000.0         NaN   \n",
       "3         suspension     ...         CA   7000.0         NaN   \n",
       "4   unknown or other     ...         PA  58205.0         NaN   \n",
       "\n",
       "                                              CDESCR ANTI_BRAKES_YN  \\\n",
       "0  tl* the contact owned a 2015 chrysler 200. the...              N   \n",
       "1  similar to incident 10885095; blind spot detec...              N   \n",
       "2  purchased vehicle in early 2016.  may/june 201...              N   \n",
       "3  here is a tesla in the salvage yard.  https://...              N   \n",
       "4  driving down the road (4 lane highway) and my ...              N   \n",
       "\n",
       "  CRUISE_CONT_YN VEH_SPEED  AGE  FAILMONTH  FAILWEEKDAY  \n",
       "0              N      60.0    2          9            1  \n",
       "1              N      70.0    1         11            3  \n",
       "2              N       0.0    1          3            0  \n",
       "3              N      30.0    0         11            1  \n",
       "4              N      70.0    3          1            0  \n",
       "\n",
       "[5 rows x 21 columns]"
      ]
     },
     "execution_count": 13,
     "metadata": {},
     "output_type": "execute_result"
    }
   ],
   "source": [
    "data.head()"
   ]
  },
  {
   "cell_type": "code",
   "execution_count": 14,
   "metadata": {
    "collapsed": true
   },
   "outputs": [],
   "source": [
    "cv=StratifiedKFold(n_splits=5,shuffle=True,random_state=1)"
   ]
  },
  {
   "cell_type": "code",
   "execution_count": 15,
   "metadata": {
    "collapsed": true
   },
   "outputs": [],
   "source": [
    "# another split method: base on time series, we use the preivious data to predict the future data\n",
    "\n",
    "#cv=TimeSeriesSplit(n_splits=5)    \n",
    "#data=data.sort_values(by=['DATEA'])\n",
    "#data['DATEA'].head()"
   ]
  },
  {
   "cell_type": "markdown",
   "metadata": {},
   "source": [
    "# Handle outliers\n",
    "- For `INJURED` and `DEATHS`, a maximum accomdation for a car/minivan is 8 people. If the number of injured or dead people is over 10, we adjust it to 8.\n",
    "\n",
    "- For the `OCCURENCES`, our boundary is qualtile 95th. If the number of occurence is over the number at 95th qualtile, we adjust it to the number at 95th qualtile.\n",
    "\n",
    "- For the `VEH_SPEED`, if the speed of the car exceed 160 km/h, we adjust it to 160."
   ]
  },
  {
   "cell_type": "code",
   "execution_count": 16,
   "metadata": {
    "collapsed": true
   },
   "outputs": [],
   "source": [
    "data[\"INJURED\"]=data[\"INJURED\"].clip(upper=8)"
   ]
  },
  {
   "cell_type": "code",
   "execution_count": 17,
   "metadata": {
    "collapsed": true
   },
   "outputs": [],
   "source": [
    "data[\"DEATHS\"]=data[\"DEATHS\"].clip(upper=8)"
   ]
  },
  {
   "cell_type": "code",
   "execution_count": 18,
   "metadata": {
    "collapsed": true
   },
   "outputs": [],
   "source": [
    "data[\"OCCURENCES\"]=data[\"OCCURENCES\"].clip(upper=data[\"OCCURENCES\"].quantile(q=0.95))"
   ]
  },
  {
   "cell_type": "code",
   "execution_count": 19,
   "metadata": {
    "collapsed": true
   },
   "outputs": [],
   "source": [
    "data[\"VEH_SPEED\"]=data[\"VEH_SPEED\"].clip(upper=160)\n",
    "data[\"VEH_SPEED\"]=data[\"VEH_SPEED\"].clip(lower=0)"
   ]
  },
  {
   "cell_type": "markdown",
   "metadata": {},
   "source": [
    "# Handle \"NA\"\n",
    "- For `INJURED` and `DEATHS`, we use 0 to fill the null value.\n",
    "- For `MILES` (the miles of the car), we fill the number that is the median of the `MILES` add a random number form the normal distribution ranged from 0 to 3000.\n",
    "- For `OCCURENCES`, we use 1 to fill the null value.\n",
    "- For `VEH_SPEED`, we fill the number that is the median of the `VEH_SPEED` add a random number form the normal distribution ranged from 0 to 200.\n",
    "- For `MEDICAL_ATTN` (Was medical attention required) and `VEHICLES_TOWED_YN` (Was vehicle towed), since they are binary of \"Y\" (yes) and \"N\" (no), we decide to use \"N\" to fill the null value."
   ]
  },
  {
   "cell_type": "code",
   "execution_count": 20,
   "metadata": {
    "collapsed": true
   },
   "outputs": [],
   "source": [
    "np.random.seed(1)"
   ]
  },
  {
   "cell_type": "code",
   "execution_count": 21,
   "metadata": {
    "collapsed": true
   },
   "outputs": [],
   "source": [
    "## fill na\n",
    "data['INJURED'] = data['INJURED'].fillna(0)\n",
    "data['DEATHS'] = data['DEATHS'].fillna(0)\n",
    "data['MILES'] = data['MILES'].fillna(data[:ntrain]['MILES'].median())+np.random.normal(0,3000)\n",
    "data['VEH_SPEED'] = data['VEH_SPEED'].fillna(data[:ntrain]['VEH_SPEED'].median()) + np.random.normal(0,5)\n",
    "data['OCCURENCES'] = data['OCCURENCES'].fillna(1)\n",
    "data['ANTI_BRAKES_YN'] = data['ANTI_BRAKES_YN'].fillna('N')\n",
    "data['CRUISE_CONT_YN'] = data['CRUISE_CONT_YN'].fillna('N')"
   ]
  },
  {
   "cell_type": "code",
   "execution_count": 22,
   "metadata": {},
   "outputs": [
    {
     "data": {
      "text/html": [
       "<div>\n",
       "<style scoped>\n",
       "    .dataframe tbody tr th:only-of-type {\n",
       "        vertical-align: middle;\n",
       "    }\n",
       "\n",
       "    .dataframe tbody tr th {\n",
       "        vertical-align: top;\n",
       "    }\n",
       "\n",
       "    .dataframe thead th {\n",
       "        text-align: right;\n",
       "    }\n",
       "</style>\n",
       "<table border=\"1\" class=\"dataframe\">\n",
       "  <thead>\n",
       "    <tr style=\"text-align: right;\">\n",
       "      <th></th>\n",
       "      <th>MFR_NAME</th>\n",
       "      <th>MAKETXT</th>\n",
       "      <th>MODELTXT</th>\n",
       "      <th>MODEL_YEAR</th>\n",
       "      <th>YEARTXT</th>\n",
       "      <th>CRASH</th>\n",
       "      <th>FIRE</th>\n",
       "      <th>INJURED</th>\n",
       "      <th>DEATHS</th>\n",
       "      <th>COMPDESC</th>\n",
       "      <th>...</th>\n",
       "      <th>STATE</th>\n",
       "      <th>MILES</th>\n",
       "      <th>OCCURENCES</th>\n",
       "      <th>CDESCR</th>\n",
       "      <th>ANTI_BRAKES_YN</th>\n",
       "      <th>CRUISE_CONT_YN</th>\n",
       "      <th>VEH_SPEED</th>\n",
       "      <th>AGE</th>\n",
       "      <th>FAILMONTH</th>\n",
       "      <th>FAILWEEKDAY</th>\n",
       "    </tr>\n",
       "  </thead>\n",
       "  <tbody>\n",
       "    <tr>\n",
       "      <th>0</th>\n",
       "      <td>Chrysler (FCA US LLC)CHRYSLER</td>\n",
       "      <td>CHRYSLER</td>\n",
       "      <td>CHRYSLER 200</td>\n",
       "      <td>Chrysler (FCA US LLC)CHRYSLER2015</td>\n",
       "      <td>2015</td>\n",
       "      <td>Y</td>\n",
       "      <td>N</td>\n",
       "      <td>1.0</td>\n",
       "      <td>0.0</td>\n",
       "      <td>seat belts</td>\n",
       "      <td>...</td>\n",
       "      <td>SC</td>\n",
       "      <td>82873.036091</td>\n",
       "      <td>1.0</td>\n",
       "      <td>tl* the contact owned a 2015 chrysler 200. the...</td>\n",
       "      <td>N</td>\n",
       "      <td>N</td>\n",
       "      <td>56.941218</td>\n",
       "      <td>2</td>\n",
       "      <td>9</td>\n",
       "      <td>1</td>\n",
       "    </tr>\n",
       "    <tr>\n",
       "      <th>1</th>\n",
       "      <td>Hyundai Motor AmericaHYUNDAI</td>\n",
       "      <td>HYUNDAI</td>\n",
       "      <td>HYUNDAI SANTA FE</td>\n",
       "      <td>Hyundai Motor AmericaHYUNDAI2015</td>\n",
       "      <td>2015</td>\n",
       "      <td>N</td>\n",
       "      <td>N</td>\n",
       "      <td>0.0</td>\n",
       "      <td>0.0</td>\n",
       "      <td>electrical system</td>\n",
       "      <td>...</td>\n",
       "      <td>IN</td>\n",
       "      <td>26373.036091</td>\n",
       "      <td>1.0</td>\n",
       "      <td>similar to incident 10885095; blind spot detec...</td>\n",
       "      <td>N</td>\n",
       "      <td>N</td>\n",
       "      <td>66.941218</td>\n",
       "      <td>1</td>\n",
       "      <td>11</td>\n",
       "      <td>3</td>\n",
       "    </tr>\n",
       "    <tr>\n",
       "      <th>2</th>\n",
       "      <td>Toyota Motor CorporationTOYOTA</td>\n",
       "      <td>TOYOTA</td>\n",
       "      <td>TOYOTA LAND CRUISER</td>\n",
       "      <td>Toyota Motor CorporationTOYOTA2016</td>\n",
       "      <td>2016</td>\n",
       "      <td>N</td>\n",
       "      <td>N</td>\n",
       "      <td>0.0</td>\n",
       "      <td>0.0</td>\n",
       "      <td>electrical system</td>\n",
       "      <td>...</td>\n",
       "      <td>CA</td>\n",
       "      <td>10873.036091</td>\n",
       "      <td>1.0</td>\n",
       "      <td>purchased vehicle in early 2016.  may/june 201...</td>\n",
       "      <td>N</td>\n",
       "      <td>N</td>\n",
       "      <td>-3.058782</td>\n",
       "      <td>1</td>\n",
       "      <td>3</td>\n",
       "      <td>0</td>\n",
       "    </tr>\n",
       "    <tr>\n",
       "      <th>3</th>\n",
       "      <td>Tesla Motors, Inc.TESLA</td>\n",
       "      <td>TESLA</td>\n",
       "      <td>TESLA MODEL S</td>\n",
       "      <td>Tesla Motors, Inc.TESLA2016</td>\n",
       "      <td>2016</td>\n",
       "      <td>N</td>\n",
       "      <td>N</td>\n",
       "      <td>0.0</td>\n",
       "      <td>0.0</td>\n",
       "      <td>suspension</td>\n",
       "      <td>...</td>\n",
       "      <td>CA</td>\n",
       "      <td>11873.036091</td>\n",
       "      <td>1.0</td>\n",
       "      <td>here is a tesla in the salvage yard.  https://...</td>\n",
       "      <td>N</td>\n",
       "      <td>N</td>\n",
       "      <td>26.941218</td>\n",
       "      <td>0</td>\n",
       "      <td>11</td>\n",
       "      <td>1</td>\n",
       "    </tr>\n",
       "    <tr>\n",
       "      <th>4</th>\n",
       "      <td>Ford Motor CompanyFORD</td>\n",
       "      <td>FORD</td>\n",
       "      <td>FORD ESCAPE</td>\n",
       "      <td>Ford Motor CompanyFORD2014</td>\n",
       "      <td>2014</td>\n",
       "      <td>N</td>\n",
       "      <td>Y</td>\n",
       "      <td>0.0</td>\n",
       "      <td>0.0</td>\n",
       "      <td>unknown or other</td>\n",
       "      <td>...</td>\n",
       "      <td>PA</td>\n",
       "      <td>63078.036091</td>\n",
       "      <td>1.0</td>\n",
       "      <td>driving down the road (4 lane highway) and my ...</td>\n",
       "      <td>N</td>\n",
       "      <td>N</td>\n",
       "      <td>66.941218</td>\n",
       "      <td>3</td>\n",
       "      <td>1</td>\n",
       "      <td>0</td>\n",
       "    </tr>\n",
       "  </tbody>\n",
       "</table>\n",
       "<p>5 rows × 21 columns</p>\n",
       "</div>"
      ],
      "text/plain": [
       "                         MFR_NAME   MAKETXT             MODELTXT  \\\n",
       "0   Chrysler (FCA US LLC)CHRYSLER  CHRYSLER         CHRYSLER 200   \n",
       "1    Hyundai Motor AmericaHYUNDAI   HYUNDAI     HYUNDAI SANTA FE   \n",
       "2  Toyota Motor CorporationTOYOTA    TOYOTA  TOYOTA LAND CRUISER   \n",
       "3         Tesla Motors, Inc.TESLA     TESLA        TESLA MODEL S   \n",
       "4          Ford Motor CompanyFORD      FORD          FORD ESCAPE   \n",
       "\n",
       "                           MODEL_YEAR  YEARTXT CRASH FIRE  INJURED  DEATHS  \\\n",
       "0   Chrysler (FCA US LLC)CHRYSLER2015     2015     Y    N      1.0     0.0   \n",
       "1    Hyundai Motor AmericaHYUNDAI2015     2015     N    N      0.0     0.0   \n",
       "2  Toyota Motor CorporationTOYOTA2016     2016     N    N      0.0     0.0   \n",
       "3         Tesla Motors, Inc.TESLA2016     2016     N    N      0.0     0.0   \n",
       "4          Ford Motor CompanyFORD2014     2014     N    Y      0.0     0.0   \n",
       "\n",
       "            COMPDESC     ...      STATE         MILES  OCCURENCES  \\\n",
       "0         seat belts     ...         SC  82873.036091         1.0   \n",
       "1  electrical system     ...         IN  26373.036091         1.0   \n",
       "2  electrical system     ...         CA  10873.036091         1.0   \n",
       "3         suspension     ...         CA  11873.036091         1.0   \n",
       "4   unknown or other     ...         PA  63078.036091         1.0   \n",
       "\n",
       "                                              CDESCR ANTI_BRAKES_YN  \\\n",
       "0  tl* the contact owned a 2015 chrysler 200. the...              N   \n",
       "1  similar to incident 10885095; blind spot detec...              N   \n",
       "2  purchased vehicle in early 2016.  may/june 201...              N   \n",
       "3  here is a tesla in the salvage yard.  https://...              N   \n",
       "4  driving down the road (4 lane highway) and my ...              N   \n",
       "\n",
       "  CRUISE_CONT_YN  VEH_SPEED  AGE  FAILMONTH  FAILWEEKDAY  \n",
       "0              N  56.941218    2          9            1  \n",
       "1              N  66.941218    1         11            3  \n",
       "2              N  -3.058782    1          3            0  \n",
       "3              N  26.941218    0         11            1  \n",
       "4              N  66.941218    3          1            0  \n",
       "\n",
       "[5 rows x 21 columns]"
      ]
     },
     "execution_count": 22,
     "metadata": {},
     "output_type": "execute_result"
    }
   ],
   "source": [
    "data.head()"
   ]
  },
  {
   "cell_type": "code",
   "execution_count": 24,
   "metadata": {
    "collapsed": true
   },
   "outputs": [],
   "source": [
    "label_feats=['YEARTXT','FAILMONTH','FAILWEEKDAY']\n",
    "text_feat= ['CDESCR']\n",
    "cat_feats = set(data.dtypes[data.dtypes == \"object\"].index) | set(label_feats) - set(text_feat)\n",
    "num_feats = set(data.dtypes[data.dtypes != \"object\"].index) - set(label_feats)"
   ]
  },
  {
   "cell_type": "code",
   "execution_count": 25,
   "metadata": {
    "collapsed": true
   },
   "outputs": [],
   "source": [
    "#data.loc[:,list(num_feats)]=data.loc[:,list(num_feats)].astype('float64')"
   ]
  },
  {
   "cell_type": "code",
   "execution_count": 26,
   "metadata": {
    "collapsed": true
   },
   "outputs": [],
   "source": [
    "train = data[:ntrain]\n",
    "test = data[ntrain:]"
   ]
  },
  {
   "cell_type": "markdown",
   "metadata": {},
   "source": [
    "make sure all numeric variables are in the same scale"
   ]
  },
  {
   "cell_type": "code",
   "execution_count": 27,
   "metadata": {
    "collapsed": true
   },
   "outputs": [],
   "source": [
    "scaler = StandardScaler()"
   ]
  },
  {
   "cell_type": "code",
   "execution_count": 28,
   "metadata": {
    "collapsed": true
   },
   "outputs": [],
   "source": [
    "class FactorExtractor(TransformerMixin, BaseEstimator):\n",
    "    \"\"\"\n",
    "    In: pd.DataFrame\n",
    "        Column in that Frame\n",
    "    Out: pd.Series\n",
    "    \n",
    "    In: pd.DataFrame\n",
    "        list of Columns in that Frame\n",
    "    Out: pd.DataFrame\n",
    "    \"\"\"\n",
    "\n",
    "    def __init__(self, factor):\n",
    "        self.factor = factor\n",
    "\n",
    "    def transform(self, data):\n",
    "        return data.loc[:,self.factor]\n",
    "\n",
    "    def fit(self, *_):\n",
    "        return self\n"
   ]
  },
  {
   "cell_type": "code",
   "execution_count": 30,
   "metadata": {
    "collapsed": true
   },
   "outputs": [],
   "source": [
    "import category_encoders as ce\n",
    "encoder = ce.OneHotEncoder(cols = cat_feats,return_df=False,handle_unknown='ignore')"
   ]
  },
  {
   "cell_type": "code",
   "execution_count": 31,
   "metadata": {
    "collapsed": true
   },
   "outputs": [],
   "source": [
    "nmf = NMF(init='random', random_state=0)"
   ]
  },
  {
   "cell_type": "code",
   "execution_count": 32,
   "metadata": {
    "collapsed": true
   },
   "outputs": [],
   "source": [
    "# allow stemming in Sklearn TfidfVectorizer\n",
    "en_stemmer = nltk.stem.SnowballStemmer('english')\n",
    "class StemmedTfidfVectorizer(TfidfVectorizer):\n",
    "    def build_analyzer(self):\n",
    "        analyzer = super(StemmedTfidfVectorizer, self).build_analyzer()\n",
    "        return lambda doc: ([en_stemmer.stem(w) for w in analyzer(doc)])\n",
    "\n",
    "tfidf_vectorizer= StemmedTfidfVectorizer(analyzer=\"word\", stop_words='english')"
   ]
  },
  {
   "cell_type": "code",
   "execution_count": 33,
   "metadata": {
    "collapsed": true
   },
   "outputs": [],
   "source": [
    "gbm = GradientBoostingClassifier(learning_rate=0.05)"
   ]
  },
  {
   "cell_type": "code",
   "execution_count": 34,
   "metadata": {
    "collapsed": true
   },
   "outputs": [],
   "source": [
    "catpipe=Pipeline([ ('cat_extractor',FactorExtractor(cat_feats)),\n",
    "                   ('encode', encoder)\n",
    "                  ])\n",
    "\n",
    "numpipe=Pipeline([ ('feat_extractor',FactorExtractor(num_feats)),\n",
    "                   #('Std',scaler)\n",
    "                  ])\n",
    "\n",
    "# extract the value in the list, so we can pass a pd series to the vectorizer, instead of a 1-column dataframe\n",
    "textpipe=Pipeline([('text_extractor', FactorExtractor(text_feat[0])),  \n",
    "                   ('tfidf',tfidf_vectorizer)#,\n",
    "                   #('count',vectorizer)\n",
    "                   #('nmf',nmf)\n",
    "                  ])\n",
    "\n",
    "feat_union=FeatureUnion([('text',textpipe),\n",
    "                         ('num',numpipe),\n",
    "                         ('cat',catpipe)\n",
    "                        ])\n",
    "\n",
    "\n",
    "pipe=Pipeline([ #('imputer',imp),\n",
    "                ('union',feat_union),\n",
    "                #('Std',scaler),\n",
    "                ('clf',gbm)])"
   ]
  },
  {
   "cell_type": "code",
   "execution_count": 41,
   "metadata": {
    "collapsed": true
   },
   "outputs": [],
   "source": [
    "param_dist=dict(union__text__tfidf__max_df=[0.7,0.8,0.9],\n",
    "                union__text__tfidf__min_df=range(1,15),\n",
    "                union__text__tfidf__binary=[True,False],\n",
    "                #union__text__nmf__n_components=range(5,20,2), \n",
    "                clf__loss=['deviance','exponential'],\n",
    "                clf__n_estimators=[100,200],\n",
    "                clf__subsample=[s/float(100) for s in range(50, 101, 2)],\n",
    "                clf__max_features=[s/float(100) for s in range(1, 90, 3)],\n",
    "                clf__max_depth=range(2,5),\n",
    "                clf__min_samples_leaf=range(5,30,3),\n",
    "                clf__min_samples_split=range(5,30),\n",
    "                clf__random_state =range(1,10))\n",
    "\n",
    "model=RandomizedSearchCV(pipe,param_dist,cv=cv,n_iter=30,random_state=1,scoring=\"roc_auc\")\n"
   ]
  },
  {
   "cell_type": "code",
   "execution_count": 42,
   "metadata": {},
   "outputs": [
    {
     "data": {
      "text/plain": [
       "RandomizedSearchCV(cv=StratifiedKFold(n_splits=5, random_state=1, shuffle=True),\n",
       "          error_score='raise-deprecating',\n",
       "          estimator=Pipeline(memory=None,\n",
       "     steps=[('union', FeatureUnion(n_jobs=None,\n",
       "       transformer_list=[('text', Pipeline(memory=None,\n",
       "     steps=[('text_extractor', FactorExtractor(factor='CDESCR')), ('tfidf', StemmedTfidfVectorizer(analyzer='word', binary=False, decode_error='strict',\n",
       "            dtype=<class 'numpy.float64'>, encod...    subsample=1.0, tol=0.0001, validation_fraction=0.1,\n",
       "              verbose=0, warm_start=False))]),\n",
       "          fit_params=None, iid='warn', n_iter=30, n_jobs=None,\n",
       "          param_distributions={'union__text__tfidf__max_df': [0.7, 0.8, 0.9], 'union__text__tfidf__min_df': range(1, 15), 'union__text__tfidf__binary': [True, False], 'clf__loss': ['deviance', 'exponential'], 'clf__n_estimators': [100, 200], 'clf__subsample': [0.5, 0.52, 0.54, 0.56, 0.58, 0.6, 0.62, 0.64, 0.6...s_leaf': range(5, 30, 3), 'clf__min_samples_split': range(5, 30), 'clf__random_state': range(1, 10)},\n",
       "          pre_dispatch='2*n_jobs', random_state=1, refit=True,\n",
       "          return_train_score='warn', scoring='roc_auc', verbose=0)"
      ]
     },
     "execution_count": 42,
     "metadata": {},
     "output_type": "execute_result"
    }
   ],
   "source": [
    "model.fit(train,adas1)"
   ]
  },
  {
   "cell_type": "code",
   "execution_count": 43,
   "metadata": {},
   "outputs": [
    {
     "data": {
      "text/plain": [
       "0.9260055213677639"
      ]
     },
     "execution_count": 43,
     "metadata": {},
     "output_type": "execute_result"
    }
   ],
   "source": [
    "model.best_score_"
   ]
  },
  {
   "cell_type": "code",
   "execution_count": 44,
   "metadata": {},
   "outputs": [
    {
     "data": {
      "text/plain": [
       "{'clf__loss': 'deviance',\n",
       " 'clf__max_depth': 3,\n",
       " 'clf__max_features': 0.46,\n",
       " 'clf__min_samples_leaf': 5,\n",
       " 'clf__min_samples_split': 18,\n",
       " 'clf__n_estimators': 200,\n",
       " 'clf__random_state': 6,\n",
       " 'clf__subsample': 0.68,\n",
       " 'union__text__tfidf__binary': False,\n",
       " 'union__text__tfidf__max_df': 0.8,\n",
       " 'union__text__tfidf__min_df': 2}"
      ]
     },
     "execution_count": 44,
     "metadata": {},
     "output_type": "execute_result"
    }
   ],
   "source": [
    "model.best_params_"
   ]
  },
  {
   "cell_type": "code",
   "execution_count": 45,
   "metadata": {
    "collapsed": true
   },
   "outputs": [],
   "source": [
    "# test set is too big, it raise error on prediction\n",
    "test1=test[:20000]\n",
    "test2=test[20000:40000]\n",
    "test3=test[40000:60000]\n",
    "test4=test[60000:80000]\n",
    "test5=test[80000:100000]\n",
    "test6=test[100000:120000]\n",
    "test7=test[120000:140000]\n",
    "test8=test[140000:]"
   ]
  },
  {
   "cell_type": "code",
   "execution_count": 46,
   "metadata": {
    "collapsed": true
   },
   "outputs": [],
   "source": [
    "prediction1=model.predict(test1)\n",
    "prediction2=model.predict(test2)\n",
    "prediction3=model.predict(test3)\n",
    "prediction4=model.predict(test4)\n",
    "prediction5=model.predict(test5)\n",
    "prediction6=model.predict(test6)\n",
    "prediction7=model.predict(test7)\n",
    "prediction8=model.predict(test8)"
   ]
  },
  {
   "cell_type": "code",
   "execution_count": 47,
   "metadata": {},
   "outputs": [
    {
     "name": "stderr",
     "output_type": "stream",
     "text": [
      "/Users/zengweihao/anaconda3/lib/python3.6/site-packages/ipykernel_launcher.py:2: SettingWithCopyWarning:\n",
      "\n",
      "\n",
      "A value is trying to be set on a copy of a slice from a DataFrame.\n",
      "Try using .loc[row_indexer,col_indexer] = value instead\n",
      "\n",
      "See the caveats in the documentation: http://pandas.pydata.org/pandas-docs/stable/indexing.html#indexing-view-versus-copy\n",
      "\n"
     ]
    }
   ],
   "source": [
    "prediction= np.concatenate((prediction1, prediction2,prediction3,prediction4,prediction5,prediction6,prediction7,prediction8), axis=None)\n",
    "test['prediction'] = prediction"
   ]
  },
  {
   "cell_type": "code",
   "execution_count": 48,
   "metadata": {
    "collapsed": true
   },
   "outputs": [],
   "source": [
    "test.to_csv('datasince2012_test_predicted.csv')"
   ]
  },
  {
   "cell_type": "code",
   "execution_count": 49,
   "metadata": {
    "collapsed": true
   },
   "outputs": [],
   "source": [
    "test_sample=test[test['prediction']==1].sample(n=100,random_state=0)"
   ]
  },
  {
   "cell_type": "code",
   "execution_count": 50,
   "metadata": {
    "collapsed": true
   },
   "outputs": [],
   "source": [
    "test_sample.to_csv('datasince2012_test_predicted_sample100.csv')"
   ]
  },
  {
   "cell_type": "code",
   "execution_count": 57,
   "metadata": {},
   "outputs": [
    {
     "name": "stderr",
     "output_type": "stream",
     "text": [
      "/Users/zengweihao/anaconda3/lib/python3.6/site-packages/ipykernel_launcher.py:1: SettingWithCopyWarning:\n",
      "\n",
      "\n",
      "A value is trying to be set on a copy of a slice from a DataFrame.\n",
      "Try using .loc[row_indexer,col_indexer] = value instead\n",
      "\n",
      "See the caveats in the documentation: http://pandas.pydata.org/pandas-docs/stable/indexing.html#indexing-view-versus-copy\n",
      "\n"
     ]
    }
   ],
   "source": [
    "train['prediction'] = adas1.values"
   ]
  },
  {
   "cell_type": "code",
   "execution_count": 62,
   "metadata": {
    "collapsed": true
   },
   "outputs": [],
   "source": [
    "alldata=pd.concat([train,test])\n",
    "alldata.to_csv('datasince2012_all_labeled.csv')"
   ]
  },
  {
   "cell_type": "code",
   "execution_count": 66,
   "metadata": {},
   "outputs": [
    {
     "data": {
      "text/plain": [
       "(100, 22)"
      ]
     },
     "execution_count": 66,
     "metadata": {},
     "output_type": "execute_result"
    }
   ],
   "source": [
    "test_sample.shape"
   ]
  },
  {
   "cell_type": "code",
   "execution_count": 67,
   "metadata": {},
   "outputs": [
    {
     "data": {
      "text/plain": [
       "(155106, 22)"
      ]
     },
     "execution_count": 67,
     "metadata": {},
     "output_type": "execute_result"
    }
   ],
   "source": [
    "test.shape"
   ]
  },
  {
   "cell_type": "code",
   "execution_count": 65,
   "metadata": {},
   "outputs": [
    {
     "data": {
      "text/plain": [
       "(157602, 22)"
      ]
     },
     "execution_count": 65,
     "metadata": {},
     "output_type": "execute_result"
    }
   ],
   "source": [
    "alldata.shape"
   ]
  },
  {
   "cell_type": "code",
   "execution_count": null,
   "metadata": {
    "collapsed": true
   },
   "outputs": [],
   "source": []
  },
  {
   "cell_type": "code",
   "execution_count": 69,
   "metadata": {
    "collapsed": true
   },
   "outputs": [],
   "source": [
    "best_textpipe = model.best_estimator_.steps[0][1].transformer_list[0][1]\n",
    "text_data = best_textpipe.transform(test).toarray()\n",
    "text_cols = best_textpipe.steps[1][1].get_feature_names()\n",
    "text_df = pd.DataFrame(data = text_data, columns = text_cols)"
   ]
  },
  {
   "cell_type": "code",
   "execution_count": 124,
   "metadata": {},
   "outputs": [
    {
     "name": "stdout",
     "output_type": "stream",
     "text": [
      "Fitting the NMF model (Frobenius norm) with tf-idf features \n",
      "done in 15.209s.\n",
      "\n",
      "Topics in NMF model (Frobenius norm):\n",
      "Topic #0: failur vehicl contact mileag tl own manufactur approxim diagnos repair notifi 000 taken state dealer warn mph 2012 illumin 2013\n",
      "Topic #1: car drive engin problem start light time turn vehicl stop issu steer happen power brake acceler dealership mile transmiss park\n",
      "Topic #2: contact repair part recal manufactur campaign nhtsa receiv number notif avail exceed unavail experienc reason state tl own confirm failur\n",
      "Topic #3: door ajar close latch lock open driver light stay interior ford passeng unlock dome shut rear sensor handl remain batteri\n",
      "Topic #4: airbag air bag seat passeng recal deploy takata belt driver crack light vehicl tire did crash injuri rear accid safeti\n",
      "\n"
     ]
    }
   ],
   "source": [
    "n_components = 5\n",
    "\n",
    "# Fit the NMF model\n",
    "print(\"Fitting the NMF model (Frobenius norm) with tf-idf features \")\n",
    "t0 = time()\n",
    "nmf = NMF(n_components=n_components, random_state=1,\n",
    "          alpha=.1, l1_ratio=.5).fit(tfidf)\n",
    "print(\"done in %0.3fs.\" % (time() - t0))\n",
    "\n",
    "print(\"\\nTopics in NMF model (Frobenius norm):\")\n",
    "tfidf_feature_names = best_textpipe.steps[1][1].get_feature_names()\n",
    "print_top_words(nmf, tfidf_feature_names, n_top_words)\n"
   ]
  },
  {
   "cell_type": "code",
   "execution_count": 125,
   "metadata": {},
   "outputs": [
    {
     "name": "stdout",
     "output_type": "stream",
     "text": [
      "Fitting the NMF model (Frobenius norm) with tf-idf features \n",
      "done in 34.021s.\n",
      "\n",
      "Topics in NMF model (Frobenius norm):\n",
      "Topic #0: failur contact mileag vehicl tl own manufactur diagnos approxim notifi taken 000 repair dealer state 2012 illumin warn recur 2013\n",
      "Topic #1: car start drive park turn stop happen hit tri pull time just got did road shut day went key abl\n",
      "Topic #2: contact repair manufactur campaign part nhtsa number notif receiv exceed unavail experienc avail reason state tl own failur recal confirm\n",
      "Topic #3: door ajar close latch lock open driver stay light interior unlock dome rear passeng shut sensor handl remain alarm insid\n",
      "Topic #4: problem issu fix dealership time dealer told replac truck mile servic said new warranti took year safeti happen need month\n",
      "Topic #5: steer power wheel turn drive assist lock difficult control right left lost loss make column speed highway fault rack tr\n",
      "Topic #6: air bag deploy crash polic injuri file report sustain did medic attent contact requir passeng driver destroy fail head light\n",
      "Topic #7: tire pressur tread mile replac wheel rear sidewal size blew wear trailer new equip spare flat vibrat tr damag rim\n",
      "Topic #8: brake pedal stop appli depress foot acceler park floor press booster truck slow fail rear fluid rotor hit hard pad\n",
      "Topic #9: engin light check came start warn turn oil power come stall shut drive restart time stop code illumin indic happen\n",
      "Topic #10: recal takata part avail airbag receiv notic remedi fix consum letter regard month vin safeti confirm year replac date list\n",
      "Topic #11: vehicl park consum drive tow start stall acceler caus attempt stop driver abl road report mph restart did turn crash\n",
      "Topic #12: transmiss gear acceler shift speed hesit jerk stop clutch traffic time shudder drive second rpm slip forward tr slow neutral\n",
      "Topic #13: ford focus 2013 fusion explor escap clutch exhaust latch edg 150 2012 throttl fiesta repair bodi fume mustang smell recal\n",
      "Topic #14: seat airbag passeng belt crack driver deploy light rear sit dashboard sensor accid dash adult tr hit seatbelt impact nissan\n",
      "\n"
     ]
    }
   ],
   "source": [
    "n_components = 15\n",
    "\n",
    "# Fit the NMF model\n",
    "print(\"Fitting the NMF model (Frobenius norm) with tf-idf features \")\n",
    "t0 = time()\n",
    "nmf = NMF(n_components=n_components, random_state=1,\n",
    "          alpha=.1, l1_ratio=.5).fit(tfidf)\n",
    "print(\"done in %0.3fs.\" % (time() - t0))\n",
    "\n",
    "print(\"\\nTopics in NMF model (Frobenius norm):\")\n",
    "tfidf_feature_names = best_textpipe.steps[1][1].get_feature_names()\n",
    "print_top_words(nmf, tfidf_feature_names, n_top_words)\n"
   ]
  },
  {
   "cell_type": "code",
   "execution_count": 146,
   "metadata": {
    "collapsed": true
   },
   "outputs": [],
   "source": [
    "A = text_data"
   ]
  },
  {
   "cell_type": "code",
   "execution_count": 152,
   "metadata": {},
   "outputs": [
    {
     "name": "stderr",
     "output_type": "stream",
     "text": [
      "/Users/zengweihao/anaconda3/lib/python3.6/site-packages/matplotlib/legend.py:1192: MatplotlibDeprecationWarning:\n",
      "\n",
      "\n",
      "Legend.draggable() is drepecated in favor of Legend.set_draggable(). Legend.draggable may be reintroduced as a property in future releases.\n",
      "\n"
     ]
    },
    {
     "data": {
      "image/png": "[encoded data removed]",
      "text/plain": [
       "<Figure size 576x360 with 1 Axes>"
      ]
     },
     "metadata": {},
     "output_type": "display_data"
    }
   ],
   "source": [
    "num_vars=A.shape[1]\n",
    "A = np.asmatrix(A.T) * np.asmatrix(A)\n",
    "U, S, V = np.linalg.svd(A) \n",
    "eigvals = S**2 / np.cumsum(S)[-1]\n",
    "eigvals = eigvals[:20]\n",
    "fig = plt.figure(figsize=(8,5))\n",
    "sing_vals = np.arange(20) + 1\n",
    "plt.plot(sing_vals, eigvals, 'ro-', linewidth=2)\n",
    "plt.title('Scree Plot')\n",
    "plt.xlabel('Principal Component')\n",
    "plt.ylabel('Eigenvalue')\n",
    "#I don't like the default legend so I typically make mine like below, e.g.\n",
    "#with smaller fonts and a bit transparent so I do not cover up data, and make\n",
    "#it moveable by the viewer in case upper-right is a bad place for it \n",
    "leg = plt.legend(['Eigenvalues from SVD'], loc='best', borderpad=0.3, \n",
    "                 shadow=False, prop=matplotlib.font_manager.FontProperties(size='small'),\n",
    "                 markerscale=0.4)\n",
    "leg.get_frame().set_alpha(0.4)\n",
    "leg.draggable(state=True)\n",
    "plt.show()"
   ]
  },
  {
   "cell_type": "code",
   "execution_count": null,
   "metadata": {
    "collapsed": true
   },
   "outputs": [],
   "source": [
    "from __future__ import print_function\n",
    "from time import time\n",
    "\n",
    "n_components = 3\n",
    "n_top_words = 20\n",
    "\n",
    "\n",
    "def print_top_words(model, feature_names, n_top_words):\n",
    "    for topic_idx, topic in enumerate(model.components_):\n",
    "        message = \"Topic #%d: \" % topic_idx\n",
    "        message += \" \".join([feature_names[i]\n",
    "                             for i in topic.argsort()[:-n_top_words - 1:-1]])\n",
    "        print(message)\n",
    "    print()\n",
    "\n",
    "\n",
    "print(\"Loading dataset...\")\n",
    "t0 = time()\n",
    "dataset = test\n",
    "print(\"done in %0.3fs.\" % (time() - t0))\n",
    "\n",
    "# Use tf-idf features for NMF.\n",
    "print(\"Extracting tf-idf features for NMF...\")\n",
    "t0 = time()\n",
    "tfidf = best_textpipe.transform(dataset)\n",
    "print(\"done in %0.3fs.\" % (time() - t0))\n"
   ]
  },
  {
   "cell_type": "code",
   "execution_count": 169,
   "metadata": {},
   "outputs": [
    {
     "name": "stdout",
     "output_type": "stream",
     "text": [
      "Fitting the NMF model (Frobenius norm) with tf-idf features \n",
      "done in 16.710s.\n",
      "\n",
      "Topics in NMF model (Frobenius norm):\n",
      "Topic #0: failur vehicl contact mileag tl own manufactur approxim diagnos repair notifi 000 taken state dealer warn mph 2012 illumin 2013\n",
      "Topic #1: car light drive problem vehicl time start engin turn issu stop happen steer brake power dealership tr mile recal park\n",
      "Topic #2: contact recal part repair manufactur campaign nhtsa receiv number avail notif exceed unavail experienc reason state tl own confirm bag\n",
      "\n"
     ]
    }
   ],
   "source": [
    "n_components = 3\n",
    "\n",
    "# Fit the NMF model\n",
    "print(\"Fitting the NMF model (Frobenius norm) with tf-idf features \")\n",
    "t0 = time()\n",
    "nmf = NMF(n_components=n_components, random_state=1,\n",
    "          alpha=.1, l1_ratio=.5).fit(tfidf)\n",
    "print(\"done in %0.3fs.\" % (time() - t0))\n",
    "\n",
    "print(\"\\nTopics in NMF model (Frobenius norm):\")\n",
    "tfidf_feature_names = best_textpipe.steps[1][1].get_feature_names()\n",
    "print_top_words(nmf, tfidf_feature_names, n_top_words)"
   ]
  },
  {
   "cell_type": "code",
   "execution_count": 170,
   "metadata": {},
   "outputs": [
    {
     "name": "stdout",
     "output_type": "stream",
     "text": [
      "Fitting the NMF model (Frobenius norm) with tf-idf features \n",
      "done in 12.193s.\n",
      "\n",
      "Topics in NMF model (Frobenius norm):\n",
      "Topic #0: failur vehicl contact mileag tl own manufactur approxim diagnos repair notifi 000 taken state dealer warn mph 2012 illumin 2013\n",
      "Topic #1: car drive light problem vehicl engin start time turn issu stop steer happen brake power dealership acceler mile tr recal\n",
      "Topic #2: contact recal part repair manufactur campaign nhtsa receiv number avail notif exceed unavail experienc reason state tl own confirm bag\n",
      "Topic #3: door ajar close latch lock open driver light stay passeng interior ford unlock rear dome sensor shut seat handl remain\n",
      "\n"
     ]
    }
   ],
   "source": [
    "n_components = 4\n",
    "\n",
    "# Fit the NMF model\n",
    "print(\"Fitting the NMF model (Frobenius norm) with tf-idf features \")\n",
    "t0 = time()\n",
    "nmf = NMF(n_components=n_components, random_state=1,\n",
    "          alpha=.1, l1_ratio=.5).fit(tfidf)\n",
    "print(\"done in %0.3fs.\" % (time() - t0))\n",
    "\n",
    "print(\"\\nTopics in NMF model (Frobenius norm):\")\n",
    "tfidf_feature_names = best_textpipe.steps[1][1].get_feature_names()\n",
    "print_top_words(nmf, tfidf_feature_names, n_top_words)"
   ]
  },
  {
   "cell_type": "code",
   "execution_count": 171,
   "metadata": {},
   "outputs": [
    {
     "name": "stdout",
     "output_type": "stream",
     "text": [
      "Fitting the NMF model (Frobenius norm) with tf-idf features \n",
      "done in 17.205s.\n",
      "\n",
      "Topics in NMF model (Frobenius norm):\n",
      "Topic #0: failur vehicl contact mileag tl own manufactur approxim diagnos repair notifi 000 taken state dealer warn mph 2012 illumin 2013\n",
      "Topic #1: car drive engin problem start light time turn vehicl stop issu steer happen power brake acceler dealership mile transmiss park\n",
      "Topic #2: contact repair part recal manufactur campaign nhtsa receiv number notif avail exceed unavail experienc reason state tl own confirm failur\n",
      "Topic #3: door ajar close latch lock open driver light stay interior ford passeng unlock dome shut rear sensor handl remain batteri\n",
      "Topic #4: airbag air bag seat passeng recal deploy takata belt driver crack light vehicl tire did crash injuri rear accid safeti\n",
      "\n"
     ]
    }
   ],
   "source": [
    "n_components = 5\n",
    "\n",
    "# Fit the NMF model\n",
    "print(\"Fitting the NMF model (Frobenius norm) with tf-idf features \")\n",
    "t0 = time()\n",
    "nmf = NMF(n_components=n_components, random_state=1,\n",
    "          alpha=.1, l1_ratio=.5).fit(tfidf)\n",
    "print(\"done in %0.3fs.\" % (time() - t0))\n",
    "\n",
    "print(\"\\nTopics in NMF model (Frobenius norm):\")\n",
    "tfidf_feature_names = best_textpipe.steps[1][1].get_feature_names()\n",
    "print_top_words(nmf, tfidf_feature_names, n_top_words)"
   ]
  },
  {
   "cell_type": "code",
   "execution_count": 126,
   "metadata": {},
   "outputs": [
    {
     "name": "stdout",
     "output_type": "stream",
     "text": [
      "Fitting the NMF model (Frobenius norm) with tf-idf features \n",
      "done in 15.303s.\n",
      "\n",
      "Topics in NMF model (Frobenius norm):\n",
      "Topic #0: failur vehicl contact mileag tl own manufactur approxim diagnos repair notifi 000 taken state dealer mph warn 2012 illumin 2013\n",
      "Topic #1: car engin start drive problem time light stop vehicl issu brake happen acceler transmiss dealership turn park mile tr dealer\n",
      "Topic #2: contact repair part recal manufactur campaign nhtsa receiv number notif avail exceed unavail experienc reason state tl own confirm failur\n",
      "Topic #3: door ajar close latch lock open driver light stay interior ford passeng unlock dome shut rear sensor handl remain batteri\n",
      "Topic #4: airbag air bag seat passeng recal deploy takata belt driver crack light tire vehicl did crash injuri rear accid safeti\n",
      "Topic #5: steer power wheel turn drive assist lock lost control difficult loss right left vehicl ford make warn highway road fault\n",
      "\n"
     ]
    }
   ],
   "source": [
    "n_components = 6\n",
    "\n",
    "# Fit the NMF model\n",
    "print(\"Fitting the NMF model (Frobenius norm) with tf-idf features \")\n",
    "t0 = time()\n",
    "nmf = NMF(n_components=n_components, random_state=1,\n",
    "          alpha=.1, l1_ratio=.5).fit(tfidf)\n",
    "print(\"done in %0.3fs.\" % (time() - t0))\n",
    "\n",
    "print(\"\\nTopics in NMF model (Frobenius norm):\")\n",
    "tfidf_feature_names = best_textpipe.steps[1][1].get_feature_names()\n",
    "print_top_words(nmf, tfidf_feature_names, n_top_words)\n"
   ]
  }
 ],
 "metadata": {
  "kernelspec": {
   "display_name": "Python 3",
   "language": "python",
   "name": "python3"
  },
  "language_info": {
   "codemirror_mode": {
    "name": "ipython",
    "version": 3
   },
   "file_extension": ".py",
   "mimetype": "text/x-python",
   "name": "python",
   "nbconvert_exporter": "python",
   "pygments_lexer": "ipython3",
   "version": "3.7.0"
  }
 },
 "nbformat": 4,
 "nbformat_minor": 2
}
